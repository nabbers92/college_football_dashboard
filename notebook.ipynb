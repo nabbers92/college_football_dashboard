{
 "cells": [
  {
   "cell_type": "markdown",
   "metadata": {},
   "source": [
    "# Notebook for quick code testing and data processing"
   ]
  },
  {
   "cell_type": "code",
   "execution_count": 1,
   "metadata": {},
   "outputs": [],
   "source": [
    "import psycopg2 as pg2"
   ]
  },
  {
   "cell_type": "code",
   "execution_count": 2,
   "metadata": {},
   "outputs": [],
   "source": [
    "conn = pg2.connect(database=\"colin\",\n",
    "                   user=\"colin\",\n",
    "                   host='localhost',\n",
    "                        port=5432)"
   ]
  },
  {
   "cell_type": "code",
   "execution_count": 3,
   "metadata": {},
   "outputs": [
    {
     "ename": "DuplicateTable",
     "evalue": "relation \"datacamp_courses\" already exists\n",
     "output_type": "error",
     "traceback": [
      "\u001b[0;31m---------------------------------------------------------------------------\u001b[0m",
      "\u001b[0;31mDuplicateTable\u001b[0m                            Traceback (most recent call last)",
      "\u001b[1;32m/Users/colin/data_science/college_football_dashboard/notebook.ipynb Cell 4\u001b[0m line \u001b[0;36m4\n\u001b[1;32m      <a href='vscode-notebook-cell:/Users/colin/data_science/college_football_dashboard/notebook.ipynb#W3sZmlsZQ%3D%3D?line=1'>2</a>\u001b[0m cur \u001b[39m=\u001b[39m conn\u001b[39m.\u001b[39mcursor()\n\u001b[1;32m      <a href='vscode-notebook-cell:/Users/colin/data_science/college_football_dashboard/notebook.ipynb#W3sZmlsZQ%3D%3D?line=2'>3</a>\u001b[0m \u001b[39m# Execute a command: create datacamp_courses table\u001b[39;00m\n\u001b[0;32m----> <a href='vscode-notebook-cell:/Users/colin/data_science/college_football_dashboard/notebook.ipynb#W3sZmlsZQ%3D%3D?line=3'>4</a>\u001b[0m cur\u001b[39m.\u001b[39;49mexecute(\u001b[39m\"\"\"\u001b[39;49m\u001b[39mCREATE TABLE datacamp_courses(\u001b[39;49m\n\u001b[1;32m      <a href='vscode-notebook-cell:/Users/colin/data_science/college_football_dashboard/notebook.ipynb#W3sZmlsZQ%3D%3D?line=4'>5</a>\u001b[0m \u001b[39m            course_id SERIAL PRIMARY KEY,\u001b[39;49m\n\u001b[1;32m      <a href='vscode-notebook-cell:/Users/colin/data_science/college_football_dashboard/notebook.ipynb#W3sZmlsZQ%3D%3D?line=5'>6</a>\u001b[0m \u001b[39m            course_name VARCHAR (50) UNIQUE NOT NULL,\u001b[39;49m\n\u001b[1;32m      <a href='vscode-notebook-cell:/Users/colin/data_science/college_football_dashboard/notebook.ipynb#W3sZmlsZQ%3D%3D?line=6'>7</a>\u001b[0m \u001b[39m            course_instructor VARCHAR (100) NOT NULL,\u001b[39;49m\n\u001b[1;32m      <a href='vscode-notebook-cell:/Users/colin/data_science/college_football_dashboard/notebook.ipynb#W3sZmlsZQ%3D%3D?line=7'>8</a>\u001b[0m \u001b[39m            topic VARCHAR (20) NOT NULL);\u001b[39;49m\n\u001b[1;32m      <a href='vscode-notebook-cell:/Users/colin/data_science/college_football_dashboard/notebook.ipynb#W3sZmlsZQ%3D%3D?line=8'>9</a>\u001b[0m \u001b[39m            \u001b[39;49m\u001b[39m\"\"\"\u001b[39;49m)\n\u001b[1;32m     <a href='vscode-notebook-cell:/Users/colin/data_science/college_football_dashboard/notebook.ipynb#W3sZmlsZQ%3D%3D?line=9'>10</a>\u001b[0m \u001b[39m# Make the changes to the database persistent\u001b[39;00m\n\u001b[1;32m     <a href='vscode-notebook-cell:/Users/colin/data_science/college_football_dashboard/notebook.ipynb#W3sZmlsZQ%3D%3D?line=10'>11</a>\u001b[0m conn\u001b[39m.\u001b[39mcommit()\n",
      "\u001b[0;31mDuplicateTable\u001b[0m: relation \"datacamp_courses\" already exists\n"
     ]
    }
   ],
   "source": [
    "# Open a cursor to perform database operations\n",
    "cur = conn.cursor()\n",
    "# Execute a command: create datacamp_courses table\n",
    "cur.execute(\"\"\"CREATE TABLE datacamp_courses(\n",
    "            course_id SERIAL PRIMARY KEY,\n",
    "            course_name VARCHAR (50) UNIQUE NOT NULL,\n",
    "            course_instructor VARCHAR (100) NOT NULL,\n",
    "            topic VARCHAR (20) NOT NULL);\n",
    "            \"\"\")\n",
    "# Make the changes to the database persistent\n",
    "conn.commit()\n",
    "# Close cursor and communication with the database\n",
    "cur.close()\n",
    "conn.close()"
   ]
  },
  {
   "cell_type": "code",
   "execution_count": 9,
   "metadata": {},
   "outputs": [
    {
     "ename": "InFailedSqlTransaction",
     "evalue": "current transaction is aborted, commands ignored until end of transaction block\n",
     "output_type": "error",
     "traceback": [
      "\u001b[0;31m---------------------------------------------------------------------------\u001b[0m",
      "\u001b[0;31mInFailedSqlTransaction\u001b[0m                    Traceback (most recent call last)",
      "\u001b[1;32m/Users/colin/data_science/college_football_dashboard/notebook.ipynb Cell 5\u001b[0m line \u001b[0;36m3\n\u001b[1;32m      <a href='vscode-notebook-cell:/Users/colin/data_science/college_football_dashboard/notebook.ipynb#W4sZmlsZQ%3D%3D?line=0'>1</a>\u001b[0m cur \u001b[39m=\u001b[39m conn\u001b[39m.\u001b[39mcursor()\n\u001b[0;32m----> <a href='vscode-notebook-cell:/Users/colin/data_science/college_football_dashboard/notebook.ipynb#W4sZmlsZQ%3D%3D?line=2'>3</a>\u001b[0m cur\u001b[39m.\u001b[39;49mexecute(\u001b[39m\"\u001b[39;49m\u001b[39mINSERT INTO datacamp_courses(course_name, course_instructor, topic) VALUES(\u001b[39;49m\u001b[39m'\u001b[39;49m\u001b[39mIntroduction to SQL\u001b[39;49m\u001b[39m'\u001b[39;49m\u001b[39m,\u001b[39;49m\u001b[39m'\u001b[39;49m\u001b[39mIzzy Weber\u001b[39;49m\u001b[39m'\u001b[39;49m\u001b[39m,\u001b[39;49m\u001b[39m'\u001b[39;49m\u001b[39mJulia\u001b[39;49m\u001b[39m'\u001b[39;49m\u001b[39m)\u001b[39;49m\u001b[39m\"\u001b[39;49m)\n\u001b[1;32m      <a href='vscode-notebook-cell:/Users/colin/data_science/college_football_dashboard/notebook.ipynb#W4sZmlsZQ%3D%3D?line=4'>5</a>\u001b[0m cur\u001b[39m.\u001b[39mexecute(\u001b[39m\"\u001b[39m\u001b[39mINSERT INTO datacamp_courses(course_name, course_instructor, topic) VALUES(\u001b[39m\u001b[39m'\u001b[39m\u001b[39mAnalyzing Survey Data in Python\u001b[39m\u001b[39m'\u001b[39m\u001b[39m,\u001b[39m\u001b[39m'\u001b[39m\u001b[39mEbunOluwa Andrew\u001b[39m\u001b[39m'\u001b[39m\u001b[39m,\u001b[39m\u001b[39m'\u001b[39m\u001b[39mPython\u001b[39m\u001b[39m'\u001b[39m\u001b[39m)\u001b[39m\u001b[39m\"\u001b[39m)\n\u001b[1;32m      <a href='vscode-notebook-cell:/Users/colin/data_science/college_football_dashboard/notebook.ipynb#W4sZmlsZQ%3D%3D?line=6'>7</a>\u001b[0m cur\u001b[39m.\u001b[39mexecute(\u001b[39m\"\u001b[39m\u001b[39mINSERT INTO datacamp_courses(course_name, course_instructor, topic) VALUES(\u001b[39m\u001b[39m'\u001b[39m\u001b[39mIntroduction to ChatGPT\u001b[39m\u001b[39m'\u001b[39m\u001b[39m,\u001b[39m\u001b[39m'\u001b[39m\u001b[39mJames Chapman\u001b[39m\u001b[39m'\u001b[39m\u001b[39m,\u001b[39m\u001b[39m'\u001b[39m\u001b[39mTheory\u001b[39m\u001b[39m'\u001b[39m\u001b[39m)\u001b[39m\u001b[39m\"\u001b[39m)\n",
      "\u001b[0;31mInFailedSqlTransaction\u001b[0m: current transaction is aborted, commands ignored until end of transaction block\n"
     ]
    }
   ],
   "source": [
    "cur = conn.cursor()\n",
    "\n",
    "cur.execute(\"INSERT INTO datacamp_courses(course_name, course_instructor, topic) VALUES('Introduction to SQL','Izzy Weber','Julia')\")\n",
    "\n",
    "cur.execute(\"INSERT INTO datacamp_courses(course_name, course_instructor, topic) VALUES('Analyzing Survey Data in Python','EbunOluwa Andrew','Python')\")\n",
    "\n",
    "cur.execute(\"INSERT INTO datacamp_courses(course_name, course_instructor, topic) VALUES('Introduction to ChatGPT','James Chapman','Theory')\")\n",
    "\n",
    "cur.execute(\"INSERT INTO datacamp_courses(course_name, course_instructor, topic) VALUES('Introduction to Statistics in R','Maggie Matsui','R')\")\n",
    "\n",
    "cur.execute(\"INSERT INTO datacamp_courses(course_name, course_instructor, topic) VALUES('Hypothesis Testing in Python','James Chapman','Python')\")\n",
    "\n",
    "conn.commit()\n",
    "cur.close()\n",
    "conn.close()"
   ]
  }
 ],
 "metadata": {
  "kernelspec": {
   "display_name": "venv",
   "language": "python",
   "name": "python3"
  },
  "language_info": {
   "codemirror_mode": {
    "name": "ipython",
    "version": 3
   },
   "file_extension": ".py",
   "mimetype": "text/x-python",
   "name": "python",
   "nbconvert_exporter": "python",
   "pygments_lexer": "ipython3",
   "version": "3.11.6"
  }
 },
 "nbformat": 4,
 "nbformat_minor": 2
}
